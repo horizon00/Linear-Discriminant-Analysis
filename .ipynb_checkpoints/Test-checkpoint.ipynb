{
 "cells": [
  {
   "cell_type": "code",
   "execution_count": 1,
   "metadata": {},
   "outputs": [],
   "source": [
    "from __future__ import division\n",
    "import sys\n",
    "import copy\n",
    "sys.dont_write_bytecode = True"
   ]
  },
  {
   "cell_type": "code",
   "execution_count": 3,
   "metadata": {},
   "outputs": [],
   "source": [
    "\"\"\"\n",
    "Testing LDA\n",
    "\"\"\"\n",
    "def test_LDA():\n",
    "    from LDA import LDA\n",
    "    x = [\n",
    "        [2.95, 6.63],\n",
    "        [2.53, 7.79],\n",
    "        [3.57, 5.65],\n",
    "        [3.16, 5.47],\n",
    "        [2.58, 4.46],\n",
    "        [2.16, 6.22],\n",
    "        [3.27, 3.52]\n",
    "    ]\n",
    "    e = copy.deepcopy(x)\n",
    "    y = [1,1,1,1,2,2,2]\n",
    "    t = LDA(x, y)\n",
    "    for a in e:\n",
    "        r = t.predict(a)\n",
    "        print (max(r, key=r.get))"
   ]
  },
  {
   "cell_type": "code",
   "execution_count": 4,
   "metadata": {},
   "outputs": [],
   "source": [
    "\"\"\"\n",
    "Testing multiclass LDA\n",
    "\"\"\"\n",
    "def test_multiclass_LDA():\n",
    "    from LDA import multiclass_LDA\n",
    "    from sklearn import datasets\n",
    "    print ('data loaded..')\n",
    "    iris = datasets.load_iris()\n",
    "    x = iris['data']\n",
    "    y = iris['target']\n",
    "    l = copy.deepcopy(x)\n",
    "    m = copy.deepcopy(y)\n",
    "    t = multiclass_LDA(x, y)\n",
    "    for a,b in zip(l, m):\n",
    "        print (t.predict(a), b)\n",
    "    \n",
    "\n",
    "#t = test_LDA()\n",
    "#t  = test_multiclass_LDA()"
   ]
  },
  {
   "cell_type": "code",
   "execution_count": 6,
   "metadata": {},
   "outputs": [],
   "source": [
    "if __name__ == '__main__' and len(sys.argv) == 2:\n",
    "    print (sys.argv)\n",
    "    method_to_test = sys.argv[1]\n",
    "    if method_to_test == 'LDA':\n",
    "        test_LDA()\n",
    "    elif method_to_test == 'multiclass_LDA':\n",
    "        test_multiclass_LDA()\n"
   ]
  },
  {
   "cell_type": "code",
   "execution_count": null,
   "metadata": {},
   "outputs": [],
   "source": []
  },
  {
   "cell_type": "code",
   "execution_count": null,
   "metadata": {},
   "outputs": [],
   "source": []
  }
 ],
 "metadata": {
  "kernelspec": {
   "display_name": "Python 3",
   "language": "python",
   "name": "python3"
  },
  "language_info": {
   "codemirror_mode": {
    "name": "ipython",
    "version": 3
   },
   "file_extension": ".py",
   "mimetype": "text/x-python",
   "name": "python",
   "nbconvert_exporter": "python",
   "pygments_lexer": "ipython3",
   "version": "3.6.3"
  }
 },
 "nbformat": 4,
 "nbformat_minor": 2
}
